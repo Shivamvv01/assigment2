{
 "cells": [
  {
   "cell_type": "markdown",
   "id": "062677ee-e9eb-4a5d-8d06-06ade220d3f4",
   "metadata": {},
   "source": [
    "Q1. How do you comment code in Python? What are the different types of comments?"
   ]
  },
  {
   "cell_type": "markdown",
   "id": "a52171b3-28b9-4396-a6bf-7ffe0e7fd046",
   "metadata": {},
   "source": [
    "Ans:- Single-Line comment :add a single-line comment, you can use the hash symbol (#)Python will ignore everything after the hash symbol on the same line\n",
    "Multi-Line comments:- it is ('''or''')triple quotes string that is multi line comment. start with ''' and with also '''and otherwise # symbol use every line."
   ]
  },
  {
   "cell_type": "markdown",
   "id": "21c5bd8d-d3a5-414a-b31b-b157255460e4",
   "metadata": {},
   "source": [
    "Q2.What are variables in Python? How do you declare and assign values to variables?"
   ]
  },
  {
   "cell_type": "markdown",
   "id": "1a1d80ca-4f1f-4a26-90fe-f4197a46f162",
   "metadata": {},
   "source": [
    "Ans:- In Python, variables are used to store and manipulate data. A variable is a named reference to a value stored in the computer's memory. It allows you to assign values to a name and use that name to refer to the value throughout your program."
   ]
  },
  {
   "cell_type": "markdown",
   "id": "0358bc29-be0b-4add-b690-998becabc63c",
   "metadata": {},
   "source": [
    "Q3. How do you convert one data type to another in Python?"
   ]
  },
  {
   "cell_type": "markdown",
   "id": "ca2839d8-5de1-449b-8979-df26d6daf576",
   "metadata": {},
   "source": [
    "Ans:- Implicit Conversion: Python automatically performs certain conversions, known as implicit conversions  if you try to add an integer and a floating-point number, Python will automatically convert the integer to a float before performing the addition.\n",
    "\n",
    "Explicit Conversion (Type Casting): If you want to explicitly convert a value from one type to another for exmaple: int value into String."
   ]
  },
  {
   "cell_type": "markdown",
   "id": "5087b734-e5e9-4853-af16-9b60fba9d7c7",
   "metadata": {},
   "source": [
    "Q4. How do you write and execute a Python script from the command line?"
   ]
  },
  {
   "cell_type": "markdown",
   "id": "7c56d7d6-01aa-4437-8836-8055e091a8aa",
   "metadata": {},
   "source": [
    "Ans:- open the file in the text editor and write your Python code within it. For example, you can write a simple script that prints \"Hello, World!\":"
   ]
  },
  {
   "cell_type": "markdown",
   "id": "a88ba443-5dbf-4bc0-b2e3-59e55b1a3bf9",
   "metadata": {},
   "source": [
    "Q5. Given a list my_list = [1, 2, 3, 4, 5], write the code to slice the list and obtain the sub-list [2, 3]."
   ]
  },
  {
   "cell_type": "code",
   "execution_count": 8,
   "id": "bb0ee64d-4496-46f2-897b-4ef74a60524b",
   "metadata": {},
   "outputs": [
    {
     "name": "stdout",
     "output_type": "stream",
     "text": [
      "[2, 3]\n"
     ]
    }
   ],
   "source": [
    "my_list=[1,2,3,4,5]\n",
    "sub_list=my_list[1:3:1]\n",
    "print(sub_list)"
   ]
  },
  {
   "cell_type": "markdown",
   "id": "dc0e52d2-415f-4633-97a7-3781856327dc",
   "metadata": {},
   "source": [
    "Q6. What is a complex number in mathematics, and how is it represented in Python?"
   ]
  },
  {
   "cell_type": "markdown",
   "id": "ad78f983-4190-4dc1-9699-78edbdbf2a02",
   "metadata": {},
   "source": [
    "Ans:- a complex number is a number that comprises both a real part and an imaginary part. it represennted in python is a+bj."
   ]
  },
  {
   "cell_type": "markdown",
   "id": "24370011-de76-4561-a2d5-7a3b3e9713bf",
   "metadata": {},
   "source": [
    "Q7. What is the correct way to declare a variable named age and assign the value 25 to it?"
   ]
  },
  {
   "cell_type": "code",
   "execution_count": 9,
   "id": "b0512247-09d3-41f6-a8fe-0fce27014e70",
   "metadata": {},
   "outputs": [],
   "source": [
    "age=25"
   ]
  },
  {
   "cell_type": "markdown",
   "id": "cbab269c-96b7-4234-8bba-abec4d861327",
   "metadata": {},
   "source": [
    "Q8. Declare a variable named price and assign the value 9.99 to it. What data type does this variable\n",
    "belong to?"
   ]
  },
  {
   "cell_type": "code",
   "execution_count": 12,
   "id": "2db32872-e234-4716-97f2-118ac04962e0",
   "metadata": {},
   "outputs": [
    {
     "data": {
      "text/plain": [
       "float"
      ]
     },
     "execution_count": 12,
     "metadata": {},
     "output_type": "execute_result"
    }
   ],
   "source": [
    "price=9.999\n",
    "type(price)"
   ]
  },
  {
   "cell_type": "markdown",
   "id": "0361e639-5fdc-4f6a-81e1-e3c4139f5d8e",
   "metadata": {},
   "source": [
    "Q9. Create a variable named name and assign your full name to it as a string. How would you print the\n",
    "value of this variable?"
   ]
  },
  {
   "cell_type": "code",
   "execution_count": 2,
   "id": "7704b2fe-89dc-4fff-8cfb-1b2492fc531f",
   "metadata": {},
   "outputs": [
    {
     "name": "stdout",
     "output_type": "stream",
     "text": [
      "Shivam vishwakarma\n"
     ]
    }
   ],
   "source": [
    "name=\"Shivam vishwakarma\"\n",
    "print(name)"
   ]
  },
  {
   "cell_type": "markdown",
   "id": "3adb9554-13bb-4971-952d-0fa784a08717",
   "metadata": {},
   "source": [
    "Q10. Given the string \"Hello, World!\", extract the substring \"World\"."
   ]
  },
  {
   "cell_type": "code",
   "execution_count": 6,
   "id": "3d5fa12a-cbc9-4216-8c09-37c1daa61bdf",
   "metadata": {},
   "outputs": [
    {
     "name": "stdout",
     "output_type": "stream",
     "text": [
      "world\n"
     ]
    }
   ],
   "source": [
    "string=\"Hello world\"\n",
    "print(string[6:12])"
   ]
  },
  {
   "cell_type": "markdown",
   "id": "c479527a-4eaf-4757-8daa-348de2f56187",
   "metadata": {},
   "source": [
    "Q11. Create a variable named \"is_student\" and assign it a boolean value indicating whether you are\n",
    "currently a student or not."
   ]
  },
  {
   "cell_type": "code",
   "execution_count": null,
   "id": "6d087183-2255-4cda-a85a-301b7284358f",
   "metadata": {},
   "outputs": [],
   "source": [
    "is_student=True"
   ]
  }
 ],
 "metadata": {
  "kernelspec": {
   "display_name": "Python 3 (ipykernel)",
   "language": "python",
   "name": "python3"
  },
  "language_info": {
   "codemirror_mode": {
    "name": "ipython",
    "version": 3
   },
   "file_extension": ".py",
   "mimetype": "text/x-python",
   "name": "python",
   "nbconvert_exporter": "python",
   "pygments_lexer": "ipython3",
   "version": "3.10.8"
  }
 },
 "nbformat": 4,
 "nbformat_minor": 5
}
